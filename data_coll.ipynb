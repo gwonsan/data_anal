{
 "cells": [
  {
   "cell_type": "code",
   "execution_count": 3,
   "id": "8aa68501-72dd-4cfa-a020-f80a9f465698",
   "metadata": {},
   "outputs": [],
   "source": [
    "from selenium import webdriver\n",
    "from selenium.webdriver.common.by import By\n",
    "from selenium.webdriver.chrome.options import Options\n",
    "from selenium.webdriver.support.ui import WebDriverWait\n",
    "from selenium.webdriver.support import expected_conditions as EC\n",
    "from selenium.common.exceptions import StaleElementReferenceException"
   ]
  },
  {
   "cell_type": "code",
   "execution_count": 15,
   "id": "bba35399-f883-4363-a515-e0e3a722bc82",
   "metadata": {},
   "outputs": [],
   "source": [
    "def dynamic_web_crawler(url,xpath):\n",
    "    # Chrome 옵션 설정\n",
    "    options = Options()\n",
    "    options.add_argument('--headless')  # 브라우저 창 숨기기\n",
    "\n",
    "    # WebDriver 객체 생성\n",
    "    driver = webdriver.Chrome()\n",
    "\n",
    "    try:\n",
    "        data=[]\n",
    "        for i in range(1,30):\n",
    "            # 웹 페이지로 이동\n",
    "            driver.get(url+str(i))\n",
    "    \n",
    "            # 웹 페이지가 로드될 때까지 대기\n",
    "            wait = WebDriverWait(driver, 20)\n",
    "            wait.until(EC.presence_of_element_located((By.CLASS_NAME, 's-item__info')))\n",
    "    \n",
    "            # 데이터 수집\n",
    "            test = driver.find_elements(By.CLASS_NAME, 's-item__info')\n",
    "            for a in test:\n",
    "                b=a.text.split('\\n')\n",
    "                tmp=[]\n",
    "                for i in range(len(b)):\n",
    "                    if i==0:\n",
    "                        continue\n",
    "                    if '$' not in b[i] and 'sold' not in b[i]:\n",
    "                        tmp.append(b[i])\n",
    "                    elif 'shipping' in b[i]:\n",
    "                        tmp.append(b[i])\n",
    "                    elif 'EXTRA ' in b[i]:\n",
    "                        tmp.append(b[i])\n",
    "                    elif 'instantly' in b[i]:\n",
    "                        tmp.append(b[i])\n",
    "                for idx in tmp:\n",
    "                    b.remove(idx)\n",
    "                \n",
    "                if len(b)<4:\n",
    "                    check_non=[]\n",
    "                    for i in range(len(b)-1,0,-1):\n",
    "                        if 'sold' in b[i]:\n",
    "                            check_non.append(3)\n",
    "                        elif '$' in b[i]:\n",
    "                            if \"Was: \" in b[i] or \"Trending at \" in b[i]:\n",
    "                                check_non.append(2)\n",
    "                            elif 2 not in check_non:\n",
    "                                check_non.append(2)\n",
    "                            else:\n",
    "                                check_non.append(1)\n",
    "                    set1=set([1,2,3])\n",
    "                    set2=set(check_non)\n",
    "                    set3 = set1-set2\n",
    "                    for i in set3:\n",
    "                        if i == 2:\n",
    "                            b.insert(i,'')\n",
    "                        else:\n",
    "                            b.insert(i,'0')\n",
    "                for i in range(len(b)):\n",
    "                    b[i]=b[i].replace(\"Was: \",\"\")\n",
    "                    b[i]=b[i].replace(\"Trending at \",\"\")\n",
    "                    b[i]=b[i].replace(\" sold\",\"\")\n",
    "                data.append(b)\n",
    "        return data\n",
    "\n",
    "    finally:\n",
    "        # WebDriver 종료\n",
    "        driver.quit()"
   ]
  },
  {
   "cell_type": "code",
   "execution_count": 16,
   "id": "fb5c9313-358d-4d39-b64e-281ff5ce42e4",
   "metadata": {
    "scrolled": true
   },
   "outputs": [],
   "source": [
    "url = \"https://www.ebay.com/b/PC-Laptops-Netbooks/177/bn_317584?_pgn=\"\n",
    "xpath = '//*[@id=\"s0-28_1-9-0-1[4]-0-0\"]/ul/li[5]'\n",
    "\n",
    "result = dynamic_web_crawler(url, xpath)"
   ]
  },
  {
   "cell_type": "code",
   "execution_count": 17,
   "id": "458b609a-dc0b-4727-a374-3baea48181d2",
   "metadata": {},
   "outputs": [
    {
     "data": {
      "text/plain": [
       "1391"
      ]
     },
     "execution_count": 17,
     "metadata": {},
     "output_type": "execute_result"
    }
   ],
   "source": [
    "len(result)"
   ]
  },
  {
   "cell_type": "code",
   "execution_count": 18,
   "id": "053a32c9-63b2-41b5-8d71-bb9e985b0ad4",
   "metadata": {},
   "outputs": [],
   "source": [
    "import csv"
   ]
  },
  {
   "cell_type": "code",
   "execution_count": 5,
   "id": "977f4907-9254-41f9-b341-f077dcb882a7",
   "metadata": {},
   "outputs": [
    {
     "name": "stdout",
     "output_type": "stream",
     "text": [
      "719\n"
     ]
    }
   ],
   "source": [
    "print(len(result))\n",
    "# for i in result:\n",
    "#     print(len(i))"
   ]
  },
  {
   "cell_type": "code",
   "execution_count": 20,
   "id": "4b308f9a-89e1-4f0b-b3ee-ec14f4a02050",
   "metadata": {},
   "outputs": [],
   "source": [
    "# Open the CSV file in write mode\n",
    "with open(\"my_data.csv\", \"w\", newline=\"\", encoding=\"utf-8\") as csvfile:\n",
    "    csv_writer = csv.writer(csvfile)\n",
    "    csv_writer.writerow(['name','sale_price','price','sold'])\n",
    "    csv_writer.writerows(result)"
   ]
  },
  {
   "cell_type": "code",
   "execution_count": 14,
   "id": "b07bee27-2120-44fa-9359-289c599e4fdb",
   "metadata": {},
   "outputs": [
    {
     "name": "stdout",
     "output_type": "stream",
     "text": [
      "1391\n"
     ]
    }
   ],
   "source": [
    "import csv\n",
    "\n",
    "# Open the CSV file in read mode\n",
    "with open(\"my_data.csv\", \"r\", newline=\"\", encoding=\"utf-8\") as csvfile:\n",
    "    csv_reader = csv.reader(csvfile)\n",
    "\n",
    "    # Read the header row\n",
    "    header = next(csv_reader)\n",
    "    modified_data=[]\n",
    "    # Create a list to store the modified data\n",
    "    # # Iterate through each row in the CSV file\n",
    "    for row in csv_reader:\n",
    "        # Modify the row as needed (replace placeholders with your actual modifications)\n",
    "        modified_row = [\n",
    "            row[0],  # Name\n",
    "            row[1],  # Sale price (example: reduce by 10%)\n",
    "            row[2],  # Price\n",
    "            row[3]  # Sold (example: increase by 5)\n",
    "        ]\n",
    "\n",
    "        # Append the modified row to the modified data list\n",
    "        modified_data.append(modified_row)\n",
    "    modified_data=modified_data+result\n",
    "    print(len(modified_data))\n",
    "\n",
    "# # Open the CSV file in write mode (overwrite existing content)\n",
    "with open(\"my_data.csv\", \"w\", newline=\"\", encoding=\"utf-8\") as csvfile:\n",
    "    csv_writer = csv.writer(csvfile)\n",
    "\n",
    "    # Write the header row\n",
    "    csv_writer.writerow(header)\n",
    "\n",
    "    # Write the modified data rows\n",
    "    csv_writer.writerows(modified_data)\n"
   ]
  },
  {
   "cell_type": "code",
   "execution_count": 16,
   "id": "9624ec02-6359-445e-8bde-0d8966a10e15",
   "metadata": {},
   "outputs": [],
   "source": [
    "import csv\n",
    "\n",
    "# Open the CSV file in read mode\n",
    "with open(\"my_data.csv\", \"r\", newline=\"\", encoding=\"utf-8\") as csvfile:\n",
    "    csv_reader = csv.reader(csvfile)\n",
    "\n",
    "    # Read the header row\n",
    "    header = next(csv_reader)\n",
    "    modified_data=[]\n",
    "    # Create a list to store the modified data\n",
    "    # # Iterate through each row in the CSV file\n",
    "    for row in csv_reader:\n",
    "        # Modify the row as needed (replace placeholders with your actual modifications)\n",
    "        modified_row = [\n",
    "            row[0].replace(\"NEW LISTING\",''),  # Name\n",
    "            row[1],  # Sale price (example: reduce by 10%)\n",
    "            row[2],  # Price\n",
    "            row[3]  # Sold (example: increase by 5)\n",
    "        ]\n",
    "\n",
    "        # Append the modified row to the modified data list\n",
    "        modified_data.append(modified_row)\n",
    "# # Open the CSV file in write mode (overwrite existing content)\n",
    "with open(\"my_data.csv\", \"w\", newline=\"\", encoding=\"utf-8\") as csvfile:\n",
    "    csv_writer = csv.writer(csvfile)\n",
    "\n",
    "    # Write the header row\n",
    "    csv_writer.writerow(header)\n",
    "\n",
    "    # Write the modified data rows\n",
    "    csv_writer.writerows(modified_data)\n"
   ]
  },
  {
   "cell_type": "code",
   "execution_count": null,
   "id": "4aee35dd-5224-40cb-9770-b4081a903b4c",
   "metadata": {},
   "outputs": [],
   "source": []
  }
 ],
 "metadata": {
  "kernelspec": {
   "display_name": "Python 3 (ipykernel)",
   "language": "python",
   "name": "python3"
  },
  "language_info": {
   "codemirror_mode": {
    "name": "ipython",
    "version": 3
   },
   "file_extension": ".py",
   "mimetype": "text/x-python",
   "name": "python",
   "nbconvert_exporter": "python",
   "pygments_lexer": "ipython3",
   "version": "3.11.5"
  }
 },
 "nbformat": 4,
 "nbformat_minor": 5
}
